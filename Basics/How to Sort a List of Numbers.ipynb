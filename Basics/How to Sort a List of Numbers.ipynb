{
 "cells": [
  {
   "cell_type": "markdown",
   "metadata": {},
   "source": [
    "**Multiple Ways to Sort List of Numbers or Integers**"
   ]
  },
  {
   "cell_type": "code",
   "execution_count": 8,
   "metadata": {},
   "outputs": [
    {
     "name": "stdout",
     "output_type": "stream",
     "text": [
      "using sorted() function [2, 3, 6, 8]\n",
      "reversed using sorted() [8, 6, 3, 2]\n",
      "reversed using sort() method [8, 6, 3, 2]\n",
      "reversed [::-1] slicing [2, 3, 6, 8]\n"
     ]
    }
   ],
   "source": [
    "num_list = [6,3,8,2]\n",
    "\n",
    "# using sorted () function\n",
    "\n",
    "sort_list = sorted(num_list)\n",
    "print(f\"using sorted() function {sort_list}\")\n",
    "reversed_sort = sorted(num_list, reverse=True)\n",
    "print(f\"reversed using sorted() {reversed_sort}\")\n",
    "\n",
    "#Using the sort() method\n",
    "\n",
    "num_list.sort(reverse=True)\n",
    "print(f\"reversed using sort() method {num_list}\")\n",
    "\n",
    "#Using the [::-1] slicing technique\n",
    "\n",
    "reversed_sorted = num_list[::-1]\n",
    "print(f\"reversed [::-1] slicing {reversed_sorted}\")\n",
    "\n"
   ]
  },
  {
   "cell_type": "markdown",
   "metadata": {},
   "source": [
    "**Using heapq module for large lists (more memory efficient)**\n",
    "\n"
   ]
  },
  {
   "cell_type": "code",
   "execution_count": 7,
   "metadata": {},
   "outputs": [
    {
     "name": "stdout",
     "output_type": "stream",
     "text": [
      "getiing lowest number [2]\n",
      "sorted list descending [3, 6, 8, 12]\n"
     ]
    }
   ],
   "source": [
    "import heapq as hq\n",
    "\n",
    "num_list = [6,3,8,2,12]\n",
    "\n",
    "hq.heapify(num_list)\n",
    "\n",
    "sorted_list = [hq.heappop(num_list)]\n",
    "\n",
    "print(f\"getiing lowest number {sorted_list}\")\n",
    "\n",
    "# descending order\n",
    "\n",
    "sorted_num = [hq.heappop(num_list) for _ in range(len(num_list))]\n",
    "\n",
    "print(f\"sorted list descending {sorted_num}\")\n"
   ]
  },
  {
   "cell_type": "markdown",
   "metadata": {},
   "source": [
    "**Some facts -----------**"
   ]
  },
  {
   "cell_type": "markdown",
   "metadata": {},
   "source": [
    "**lists with a combination of integers and floating-point numbers\n",
    "\n",
    "list of numbers in scientific notation\n",
    "\n",
    "list contains negative numbers**\n"
   ]
  },
  {
   "cell_type": "code",
   "execution_count": 8,
   "metadata": {},
   "outputs": [
    {
     "name": "stdout",
     "output_type": "stream",
     "text": [
      "[-9, 1.5, 3, 7, 15000.0]\n"
     ]
    }
   ],
   "source": [
    "mixed_numbers = [3, 1.5, 7, 1.5e4, -9]\n",
    "sorted_mixed_numbers = sorted(mixed_numbers)\n",
    "\n",
    "print(sorted_mixed_numbers)"
   ]
  }
 ],
 "metadata": {
  "kernelspec": {
   "display_name": "ML",
   "language": "python",
   "name": "python3"
  },
  "language_info": {
   "codemirror_mode": {
    "name": "ipython",
    "version": 3
   },
   "file_extension": ".py",
   "mimetype": "text/x-python",
   "name": "python",
   "nbconvert_exporter": "python",
   "pygments_lexer": "ipython3",
   "version": "3.10.15"
  }
 },
 "nbformat": 4,
 "nbformat_minor": 2
}
