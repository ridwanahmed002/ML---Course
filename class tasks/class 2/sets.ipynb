{
 "cells": [
  {
   "cell_type": "code",
   "execution_count": 2,
   "metadata": {},
   "outputs": [
    {
     "name": "stdout",
     "output_type": "stream",
     "text": [
      "{2, 4, 7, 9, 12}\n"
     ]
    }
   ],
   "source": [
    "# Example 1: Creating a Set\n",
    "\n",
    "my_set = {2,9,7,4,12}\n",
    "print(my_set)"
   ]
  },
  {
   "cell_type": "code",
   "execution_count": 5,
   "metadata": {},
   "outputs": [
    {
     "name": "stdout",
     "output_type": "stream",
     "text": [
      "{2, 4, 22, 7, 9, 12}\n"
     ]
    }
   ],
   "source": [
    "# Example 2: Adding Elements to a Set\n",
    "\n",
    "my_set.add(22)\n",
    "print(my_set)"
   ]
  },
  {
   "cell_type": "code",
   "execution_count": 10,
   "metadata": {},
   "outputs": [],
   "source": [
    "# Example 3: Removing Elements from a Set\n",
    "\n",
    "my_set.remove(7)\n",
    "print(my_set)\n",
    "\n",
    "my_set.discard(44) #no error"
   ]
  },
  {
   "cell_type": "code",
   "execution_count": 3,
   "metadata": {},
   "outputs": [
    {
     "name": "stdout",
     "output_type": "stream",
     "text": [
      "{48, 2, 50, 4, 7, 9, 12}\n"
     ]
    }
   ],
   "source": [
    "# Example 4: Set Union\n",
    "\n",
    "my_set2 = {7, 50, 48}\n",
    "\n",
    "union_set = my_set.union(my_set2)\n",
    "print(union_set)\n",
    "\n"
   ]
  },
  {
   "cell_type": "code",
   "execution_count": 4,
   "metadata": {},
   "outputs": [
    {
     "name": "stdout",
     "output_type": "stream",
     "text": [
      "{7}\n"
     ]
    }
   ],
   "source": [
    "# Example 5: Set Intersection\n",
    "\n",
    "intersection_set = my_set.intersection(my_set2)\n",
    "print(intersection_set)"
   ]
  },
  {
   "cell_type": "code",
   "execution_count": 5,
   "metadata": {},
   "outputs": [
    {
     "name": "stdout",
     "output_type": "stream",
     "text": [
      "{9, 2, 4, 12}\n"
     ]
    }
   ],
   "source": [
    "# Example 6: Set Difference\n",
    "# The difference() method returns a new set containing elements present in one set but not in the other.\n",
    "\n",
    "difference_set = my_set.difference(my_set2)\n",
    "print(difference_set)"
   ]
  },
  {
   "cell_type": "code",
   "execution_count": 6,
   "metadata": {},
   "outputs": [
    {
     "name": "stdout",
     "output_type": "stream",
     "text": [
      "{2, 4, 9, 12, 48, 50}\n"
     ]
    }
   ],
   "source": [
    "# Example 7: Set Symmetric Difference\n",
    "# The symmetric_difference() method returns a new set containing elements present in either set but not in both.\n",
    "\n",
    "symmetric_difference_set = my_set.symmetric_difference(my_set2)\n",
    "print(symmetric_difference_set)"
   ]
  },
  {
   "cell_type": "code",
   "execution_count": 8,
   "metadata": {},
   "outputs": [
    {
     "name": "stdout",
     "output_type": "stream",
     "text": [
      "True\n",
      "False\n"
     ]
    }
   ],
   "source": [
    "# Example 8: Checking Membership in a Set\n",
    "\n",
    "print(9 in my_set)\n",
    "\n",
    "print(9 not in my_set)"
   ]
  },
  {
   "cell_type": "code",
   "execution_count": 9,
   "metadata": {},
   "outputs": [
    {
     "name": "stdout",
     "output_type": "stream",
     "text": [
      "2\n",
      "4\n",
      "7\n",
      "9\n",
      "12\n"
     ]
    }
   ],
   "source": [
    "# Example 9: Iterating Over a Set\n",
    "\n",
    "# You can iterate over a set to access its elements.\n",
    "# Since sets are unordered, the elements may be returned in any order\n",
    "\n",
    "for i in my_set:\n",
    "    print(i)"
   ]
  },
  {
   "cell_type": "code",
   "execution_count": 10,
   "metadata": {},
   "outputs": [
    {
     "name": "stdout",
     "output_type": "stream",
     "text": [
      "5\n"
     ]
    }
   ],
   "source": [
    "# Example 10: Set Length\n",
    "\n",
    "print(len(my_set))"
   ]
  }
 ],
 "metadata": {
  "kernelspec": {
   "display_name": "ML",
   "language": "python",
   "name": "python3"
  },
  "language_info": {
   "codemirror_mode": {
    "name": "ipython",
    "version": 3
   },
   "file_extension": ".py",
   "mimetype": "text/x-python",
   "name": "python",
   "nbconvert_exporter": "python",
   "pygments_lexer": "ipython3",
   "version": "3.10.15"
  }
 },
 "nbformat": 4,
 "nbformat_minor": 2
}
