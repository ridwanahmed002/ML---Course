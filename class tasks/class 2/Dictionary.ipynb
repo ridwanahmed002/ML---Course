{
 "cells": [
  {
   "cell_type": "code",
   "execution_count": 1,
   "metadata": {},
   "outputs": [
    {
     "name": "stdout",
     "output_type": "stream",
     "text": [
      "{'name': 'Arman', 'age': 24, 'address': 'Kathmandu'}\n"
     ]
    }
   ],
   "source": [
    "# Example 1: Creating a Dictionary\n",
    "\n",
    "my_dict = {\"name\":\"Arman\",\"age\":24,\"address\":\"Kathmandu\"}\n",
    "\n",
    "print(my_dict)"
   ]
  },
  {
   "cell_type": "code",
   "execution_count": 3,
   "metadata": {},
   "outputs": [
    {
     "name": "stdout",
     "output_type": "stream",
     "text": [
      "Arman\n",
      "24\n",
      "24\n"
     ]
    }
   ],
   "source": [
    "# Example 2: Accessing Dictionary Values\n",
    "\n",
    "# Values in a dictionary are accessed using their keys.\n",
    "# If a key is not found, a KeyError will be raised unless you use the get() method, which returns None.\n",
    "\n",
    "name = my_dict[\"name\"]\n",
    "print(name)\n",
    "\n",
    "age = my_dict.get(\"age\", 25)\n",
    "print(age)\n",
    "\n",
    "age2 = my_dict[\"age\"]\n",
    "print(age2)"
   ]
  },
  {
   "cell_type": "code",
   "execution_count": 4,
   "metadata": {},
   "outputs": [
    {
     "name": "stdout",
     "output_type": "stream",
     "text": [
      "{'name': 'Arman', 'age': 25, 'address': 'Kathmandu'}\n"
     ]
    }
   ],
   "source": [
    "# Example 3: Modifying Dictionary Values\n",
    "\n",
    "my_dict[\"age\"] = 25\n",
    "print(my_dict)"
   ]
  },
  {
   "cell_type": "code",
   "execution_count": 5,
   "metadata": {},
   "outputs": [
    {
     "name": "stdout",
     "output_type": "stream",
     "text": [
      "{'name': 'Arman', 'age': 25, 'address': 'Kathmandu', 'city': 'Kathmandu'}\n"
     ]
    }
   ],
   "source": [
    "# Example 4: Adding Key-Value Pairs to a Dictionary\n",
    "\n",
    "my_dict[\"city\"] = \"Kathmandu\"\n",
    "print(my_dict)"
   ]
  },
  {
   "cell_type": "code",
   "execution_count": 6,
   "metadata": {},
   "outputs": [
    {
     "name": "stdout",
     "output_type": "stream",
     "text": [
      "Kathmandu\n",
      "{'name': 'Arman', 'age': 25, 'address': 'Kathmandu'}\n"
     ]
    }
   ],
   "source": [
    "# Example 5: Removing Key-Value Pairs from a Dictionary\n",
    "\n",
    "# You can remove key-value pairs using the pop() method, which removes the specified key and returns its value.\n",
    "# The del keyword can also be used to remove a specific key or clear() to remove all items.\n",
    "\n",
    "removed_value = my_dict.pop(\"city\")\n",
    "print(removed_value)\n",
    "print(my_dict)"
   ]
  },
  {
   "cell_type": "code",
   "execution_count": 7,
   "metadata": {},
   "outputs": [
    {
     "name": "stdout",
     "output_type": "stream",
     "text": [
      "dict_keys(['name', 'age', 'address'])\n",
      "dict_values(['Arman', 25, 'Kathmandu'])\n",
      "dict_items([('name', 'Arman'), ('age', 25), ('address', 'Kathmandu')])\n"
     ]
    }
   ],
   "source": [
    "# Example 6: Dictionary Keys, Values, and Items\n",
    "\n",
    "# You can retrieve all keys, values, or key-value pairs using the keys(), values(), and items() methods, respectively.\n",
    "\n",
    "keys = my_dict.keys()\n",
    "print(keys)\n",
    "\n",
    "values = my_dict.values()\n",
    "print(values)\n",
    "\n",
    "items = my_dict.items()\n",
    "print(items)\n",
    "\n"
   ]
  },
  {
   "cell_type": "code",
   "execution_count": 11,
   "metadata": {},
   "outputs": [
    {
     "name": "stdout",
     "output_type": "stream",
     "text": [
      "True\n",
      "True\n"
     ]
    }
   ],
   "source": [
    "# Example 7: Checking Membership in a Dictionary\n",
    "\n",
    "# You can use the 'in' keyword to check if a key exists in a dictionary.\n",
    "\n",
    "print(\"age\" in my_dict)\n",
    "\n",
    "# You can use the 'not in' keyword to check if a key does not exist in a dictionary.\n",
    "\n",
    "print(\"city\" not in my_dict)"
   ]
  },
  {
   "cell_type": "code",
   "execution_count": 13,
   "metadata": {},
   "outputs": [
    {
     "name": "stdout",
     "output_type": "stream",
     "text": [
      "name Arman\n",
      "age 25\n",
      "address Kathmandu\n",
      "name Arman\n",
      "age 25\n",
      "address Kathmandu\n"
     ]
    }
   ],
   "source": [
    "# Example 8: Iterating Over a Dictionary\n",
    "\n",
    "# You can iterate over a dictionary to access its keys, values, or key-value pairs.\n",
    "\n",
    "for key in my_dict:\n",
    "    print(key, my_dict[key])\n",
    "\n",
    "for key, value in my_dict.items():\n",
    "    print(key, value)"
   ]
  },
  {
   "cell_type": "code",
   "execution_count": 14,
   "metadata": {},
   "outputs": [
    {
     "name": "stdout",
     "output_type": "stream",
     "text": [
      "{'a': 1, 'b': 2, 'c': 3, 'd': 4}\n"
     ]
    }
   ],
   "source": [
    "# Example 9: Merging Dictionaries\n",
    "\n",
    "# You can merge two dictionaries using the update() method.\n",
    "\n",
    "dict1 = {\"a\": 1, \"b\": 2}\n",
    "dict2 = {\"c\": 3, \"d\": 4}\n",
    "\n",
    "dict1.update(dict2)\n",
    "print(dict1)"
   ]
  },
  {
   "cell_type": "code",
   "execution_count": 15,
   "metadata": {},
   "outputs": [
    {
     "name": "stdout",
     "output_type": "stream",
     "text": [
      "3\n"
     ]
    }
   ],
   "source": [
    "# Example 10: Dictionary Length\n",
    "\n",
    "print(len(my_dict))"
   ]
  }
 ],
 "metadata": {
  "kernelspec": {
   "display_name": "ML",
   "language": "python",
   "name": "python3"
  },
  "language_info": {
   "codemirror_mode": {
    "name": "ipython",
    "version": 3
   },
   "file_extension": ".py",
   "mimetype": "text/x-python",
   "name": "python",
   "nbconvert_exporter": "python",
   "pygments_lexer": "ipython3",
   "version": "3.10.15"
  }
 },
 "nbformat": 4,
 "nbformat_minor": 2
}
