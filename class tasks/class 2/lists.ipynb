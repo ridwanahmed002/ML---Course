{
 "cells": [
  {
   "cell_type": "code",
   "execution_count": null,
   "metadata": {},
   "outputs": [
    {
     "name": "stdout",
     "output_type": "stream",
     "text": [
      "[2, 9, 7, 4, 12]\n"
     ]
    }
   ],
   "source": [
    "# Example 1: Creating a List\n",
    "\n",
    "my_list = [2,9,7,4,12]\n",
    "print(my_list)"
   ]
  },
  {
   "cell_type": "code",
   "execution_count": null,
   "metadata": {},
   "outputs": [
    {
     "name": "stdout",
     "output_type": "stream",
     "text": [
      "third element 7  and last element 12\n"
     ]
    }
   ],
   "source": [
    "# Example 2: Accessing List Elements\n",
    "\n",
    "third = my_list[2]\n",
    "last = my_list[-1]\n",
    "\n",
    "print(f\"third element {third}  and last element {last}\")"
   ]
  },
  {
   "cell_type": "code",
   "execution_count": null,
   "metadata": {},
   "outputs": [
    {
     "name": "stdout",
     "output_type": "stream",
     "text": [
      "after changinf first element [20, 9, 7, 4, 12]\n"
     ]
    }
   ],
   "source": [
    "# Example 3: Modifying List Elements\n",
    "\n",
    "my_list[0] = 20\n",
    "print(f\"after changing first element {my_list}\")"
   ]
  },
  {
   "cell_type": "code",
   "execution_count": null,
   "metadata": {},
   "outputs": [
    {
     "name": "stdout",
     "output_type": "stream",
     "text": [
      "[20, 9, 15, 15, 7, 4, 12, 'inserted']\n",
      "[20, 9, 15, 15, 7, 4, 12, 'inserted', 50]\n"
     ]
    }
   ],
   "source": [
    "# Example 4: Adding Elements to a List\n",
    "\n",
    "my_list.insert(2, 15)\n",
    "print(my_list)\n",
    "\n",
    "my_list.append(50)\n",
    "print(my_list)"
   ]
  },
  {
   "cell_type": "code",
   "execution_count": null,
   "metadata": {},
   "outputs": [
    {
     "name": "stdout",
     "output_type": "stream",
     "text": [
      "[20, 9, 15, 15, 7, 4, 12, 50]\n"
     ]
    }
   ],
   "source": [
    "# Example 5: Removing Elements from a List\n",
    "\n",
    "my_list.remove('inserted')\n",
    "print(my_list)"
   ]
  },
  {
   "cell_type": "code",
   "execution_count": null,
   "metadata": {},
   "outputs": [
    {
     "name": "stdout",
     "output_type": "stream",
     "text": [
      "[20, 9, 15, 15]\n",
      "[7, 4, 12, 50]\n"
     ]
    }
   ],
   "source": [
    "# Example 6: List Slicing\n",
    "\n",
    "slicing = my_list[0:4]\n",
    "print(slicing)\n",
    "\n",
    "slicing2 = my_list[4:]\n",
    "print(slicing2)"
   ]
  },
  {
   "cell_type": "code",
   "execution_count": null,
   "metadata": {},
   "outputs": [
    {
     "name": "stdout",
     "output_type": "stream",
     "text": [
      "[0, 1, 4, 9, 16, 25]\n"
     ]
    }
   ],
   "source": [
    "# Example 7: List Comprehension\n",
    "\n",
    "squared_list = [x**2 for x in range(6)]\n",
    "print(squared_list)\n"
   ]
  },
  {
   "cell_type": "code",
   "execution_count": null,
   "metadata": {},
   "outputs": [
    {
     "name": "stdout",
     "output_type": "stream",
     "text": [
      "sorry\n"
     ]
    }
   ],
   "source": [
    "# Example 8: Checking Membership in a List\n",
    "\n",
    "if 6 in my_list:\n",
    "    print(\"yes its here\")\n",
    "else:\n",
    "    print(\"sorry\")"
   ]
  },
  {
   "cell_type": "code",
   "execution_count": null,
   "metadata": {},
   "outputs": [
    {
     "name": "stdout",
     "output_type": "stream",
     "text": [
      "[4, 7, 9, 12, 15, 15, 20, 50]\n"
     ]
    }
   ],
   "source": [
    "# Example 9: Sorting a List\n",
    "\n",
    "sort_list = sorted(my_list)\n",
    "print(sort_list)"
   ]
  },
  {
   "cell_type": "code",
   "execution_count": null,
   "metadata": {},
   "outputs": [
    {
     "name": "stdout",
     "output_type": "stream",
     "text": [
      "8\n"
     ]
    }
   ],
   "source": [
    "# Example 10: List Length\n",
    "\n",
    "print(len(my_list))"
   ]
  }
 ],
 "metadata": {
  "language_info": {
   "name": "python"
  }
 },
 "nbformat": 4,
 "nbformat_minor": 2
}
