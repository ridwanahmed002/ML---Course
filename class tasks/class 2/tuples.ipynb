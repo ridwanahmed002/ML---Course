{
 "cells": [
  {
   "cell_type": "code",
   "execution_count": 1,
   "metadata": {},
   "outputs": [
    {
     "name": "stdout",
     "output_type": "stream",
     "text": [
      "(2, 9, 7, 4, 12)\n"
     ]
    }
   ],
   "source": [
    "# Example 1: Creating a Tuple\n",
    "\n",
    "my_tuple = (2,9,7,4,12)\n",
    "print(my_tuple)"
   ]
  },
  {
   "cell_type": "code",
   "execution_count": 2,
   "metadata": {},
   "outputs": [
    {
     "name": "stdout",
     "output_type": "stream",
     "text": [
      "9\n"
     ]
    }
   ],
   "source": [
    "# Example 2: Accessing Tuple Elements\n",
    "\n",
    "second_element = my_tuple[1]\n",
    "print(second_element)"
   ]
  },
  {
   "cell_type": "code",
   "execution_count": 3,
   "metadata": {},
   "outputs": [
    {
     "ename": "TypeError",
     "evalue": "'tuple' object does not support item assignment",
     "output_type": "error",
     "traceback": [
      "\u001b[1;31m---------------------------------------------------------------------------\u001b[0m",
      "\u001b[1;31mTypeError\u001b[0m                                 Traceback (most recent call last)",
      "Cell \u001b[1;32mIn[3], line 3\u001b[0m\n\u001b[0;32m      1\u001b[0m \u001b[38;5;66;03m# Example 3: Tuple Immutability\u001b[39;00m\n\u001b[1;32m----> 3\u001b[0m my_tuple[\u001b[38;5;241m0\u001b[39m] \u001b[38;5;241m=\u001b[39m \u001b[38;5;241m10\u001b[39m\n\u001b[0;32m      4\u001b[0m \u001b[38;5;28mprint\u001b[39m(my_tuple)\n",
      "\u001b[1;31mTypeError\u001b[0m: 'tuple' object does not support item assignment"
     ]
    }
   ],
   "source": [
    "# Example 3: Tuple Immutability\n",
    "\n",
    "my_tuple[0] = 10\n",
    "print(my_tuple)"
   ]
  },
  {
   "cell_type": "code",
   "execution_count": 4,
   "metadata": {},
   "outputs": [
    {
     "name": "stdout",
     "output_type": "stream",
     "text": [
      "(2, 9, 7, 4, 12, 6)\n"
     ]
    }
   ],
   "source": [
    "# Example 4: Adding Elements to a Tuple\n",
    "\n",
    "my_tuple = my_tuple + (6,)\n",
    "print(my_tuple)\n"
   ]
  },
  {
   "cell_type": "code",
   "execution_count": 6,
   "metadata": {},
   "outputs": [
    {
     "name": "stdout",
     "output_type": "stream",
     "text": [
      "(2, 9, 7)\n",
      "(9, 7, 4, 12)\n"
     ]
    }
   ],
   "source": [
    "# Example 6: Tuple Slicing\n",
    "\n",
    "first_three_elements = my_tuple[:3]\n",
    "print(first_three_elements)\n",
    "\n",
    "second_to_fifth_elements = my_tuple[1:5]\n",
    "print(second_to_fifth_elements)"
   ]
  },
  {
   "cell_type": "code",
   "execution_count": 7,
   "metadata": {},
   "outputs": [
    {
     "name": "stdout",
     "output_type": "stream",
     "text": [
      "(0, 1, 4, 9, 16, 25, 36, 49, 64, 81)\n"
     ]
    }
   ],
   "source": [
    "# Example 7: Tuple Comprehension (using generator expression)\n",
    "# Tuples do not support comprehension like lists.\n",
    "# However, you can use a generator expression to create a tuple.\n",
    "\n",
    "squares = tuple(x**2 for x in range(10))\n",
    "print(squares)"
   ]
  },
  {
   "cell_type": "code",
   "execution_count": 8,
   "metadata": {},
   "outputs": [
    {
     "name": "stdout",
     "output_type": "stream",
     "text": [
      "True\n"
     ]
    }
   ],
   "source": [
    "# Example 8: Checking Membership in a Tuple\n",
    "\n",
    "is_9_in_tuple = 9 in my_tuple\n",
    "print(is_9_in_tuple)"
   ]
  },
  {
   "cell_type": "code",
   "execution_count": 9,
   "metadata": {},
   "outputs": [
    {
     "name": "stdout",
     "output_type": "stream",
     "text": [
      "(2, 4, 6, 7, 9, 12)\n"
     ]
    }
   ],
   "source": [
    "# Example 9: Sorting a Tuple\n",
    "\n",
    "# Tuples are immutable and cannot be sorted directly.\n",
    "# To sort a tuple, you need to convert it to a list, sort it, and convert it back to a tuple.\n",
    "\n",
    "sorted_tuple = tuple(sorted(my_tuple))\n",
    "print(sorted_tuple)"
   ]
  },
  {
   "cell_type": "code",
   "execution_count": 10,
   "metadata": {},
   "outputs": [
    {
     "name": "stdout",
     "output_type": "stream",
     "text": [
      "6\n"
     ]
    }
   ],
   "source": [
    "# Example 10: Tuple Length\n",
    "\n",
    "tuple_length = len(my_tuple)\n",
    "print(tuple_length)"
   ]
  }
 ],
 "metadata": {
  "kernelspec": {
   "display_name": "ML",
   "language": "python",
   "name": "python3"
  },
  "language_info": {
   "codemirror_mode": {
    "name": "ipython",
    "version": 3
   },
   "file_extension": ".py",
   "mimetype": "text/x-python",
   "name": "python",
   "nbconvert_exporter": "python",
   "pygments_lexer": "ipython3",
   "version": "3.10.15"
  }
 },
 "nbformat": 4,
 "nbformat_minor": 2
}
