{
 "cells": [
  {
   "cell_type": "code",
   "execution_count": 7,
   "metadata": {},
   "outputs": [
    {
     "name": "stdout",
     "output_type": "stream",
     "text": [
      "product info: [('computer', 'electronics', 50000), ('laptop', 'electronics', 100000), ('worker', 'people', 50)]\n"
     ]
    },
    {
     "data": {
      "text/plain": [
       "list"
      ]
     },
     "execution_count": 7,
     "metadata": {},
     "output_type": "execute_result"
    }
   ],
   "source": [
    "product_info = [(\"computer\", \"electronics\", 50000), (\"laptop\", \"electronics\", 100000), (\"worker\", \"people\", 50)]\n",
    "\n",
    "print(f\"product info: {product_info}\")\n",
    "type(product_info)\n",
    "\n"
   ]
  },
  {
   "cell_type": "code",
   "execution_count": null,
   "metadata": {},
   "outputs": [
    {
     "name": "stdout",
     "output_type": "stream",
     "text": [
      "1st iteration: {'electronics': {}}\n",
      "after if condition: {'electronics': {'computer': 50000}}\n",
      "after if condition: {'electronics': {'computer': 50000, 'laptop': 100000}}\n",
      "1st iteration: {'electronics': {'computer': 50000, 'laptop': 100000}, 'people': {}}\n",
      "after if condition: {'electronics': {'computer': 50000, 'laptop': 100000}, 'people': {'worker': 50}}\n",
      "Product information: [('computer', 'electronics', 50000), ('laptop', 'electronics', 100000), ('worker', 'people', 50)]\n"
     ]
    }
   ],
   "source": [
    "#now convert to dictionary\n",
    "\n",
    "product_dict = {} #create empty dictionary\t\n",
    "\n",
    "for product_name, product_category, product_item in product_info:\n",
    "    if product_category not in product_dict: #check if category not in product_dict\n",
    "        product_dict[product_category] = {} # create new key-value pair\n",
    "        print(\"1st iteration:\", product_dict)\n",
    "    product_dict[product_category][product_name] = product_item # add product_name to product_dict\n",
    "    print(\"after if condition:\", product_dict)\n",
    "\n",
    "print(f\"Product information: {product_info}\") \n",
    "\n",
    "#{\"key\":value}\n",
    "#Value = {\"computer\":50000} \n",
    "\n",
    "#here first we made produuct_category as key; then we made product_name and product_item as value; then inserted the value in key\n",
    "       "
   ]
  },
  {
   "cell_type": "code",
   "execution_count": 11,
   "metadata": {},
   "outputs": [
    {
     "name": "stdout",
     "output_type": "stream",
     "text": [
      "{'electronics', 'people'}\n",
      "-----\n",
      "{'computer': 50000, 'laptop': 100000}\n"
     ]
    }
   ],
   "source": [
    "unique_items = set(product_dict.keys())\n",
    "print(unique_items)\n",
    "\n",
    "print(\"-----\")\n",
    "a = product_dict[\"electronics\"]\n",
    "print(a)"
   ]
  },
  {
   "cell_type": "code",
   "execution_count": 16,
   "metadata": {},
   "outputs": [
    {
     "name": "stdout",
     "output_type": "stream",
     "text": [
      "({'electronics', 'people'}, {'electronics': {'computer': 50000, 'laptop': 100000}, 'people': {'worker': 50}})\n"
     ]
    }
   ],
   "source": [
    "#tuple\n",
    "\n",
    "b = (unique_items, product_dict)\n",
    "print(b)"
   ]
  },
  {
   "cell_type": "code",
   "execution_count": 17,
   "metadata": {},
   "outputs": [
    {
     "name": "stdout",
     "output_type": "stream",
     "text": [
      "{'electronics': {'computer': 50000, 'laptop': 100000}, 'people': {'worker': 50}}\n"
     ]
    }
   ],
   "source": [
    "c = (product_dict) # type conversion\n",
    "print(c)"
   ]
  },
  {
   "cell_type": "code",
   "execution_count": 31,
   "metadata": {},
   "outputs": [
    {
     "name": "stdout",
     "output_type": "stream",
     "text": [
      "<class 'set'>\n",
      "{'electronics', 'people'}\n",
      "{'electronics': {'computer': 50000, 'laptop': 100000}, 'people': {'worker': 50}}\n"
     ]
    }
   ],
   "source": [
    "\n",
    "print(type(b[0]))\n",
    "\n",
    "print(b[0])\n",
    "\n",
    "\n",
    "print(b[1])"
   ]
  },
  {
   "cell_type": "code",
   "execution_count": 26,
   "metadata": {},
   "outputs": [
    {
     "ename": "AttributeError",
     "evalue": "'tuple' object has no attribute 'append'",
     "output_type": "error",
     "traceback": [
      "\u001b[1;31m---------------------------------------------------------------------------\u001b[0m",
      "\u001b[1;31mAttributeError\u001b[0m                            Traceback (most recent call last)",
      "Cell \u001b[1;32mIn[26], line 1\u001b[0m\n\u001b[1;32m----> 1\u001b[0m \u001b[43mb\u001b[49m\u001b[38;5;241;43m.\u001b[39;49m\u001b[43mappend\u001b[49m(\u001b[38;5;124m\"\u001b[39m\u001b[38;5;124mhello\u001b[39m\u001b[38;5;124m\"\u001b[39m)\n",
      "\u001b[1;31mAttributeError\u001b[0m: 'tuple' object has no attribute 'append'"
     ]
    }
   ],
   "source": [
    "b.append(\"hello\")"
   ]
  },
  {
   "cell_type": "code",
   "execution_count": null,
   "metadata": {},
   "outputs": [
    {
     "name": "stdout",
     "output_type": "stream",
     "text": [
      "Yes\n"
     ]
    }
   ],
   "source": [
    "if \"people\" in b[0]:\n",
    "    print(\"Yes\")\n",
    "    product_info.append"
   ]
  },
  {
   "cell_type": "code",
   "execution_count": 33,
   "metadata": {},
   "outputs": [
    {
     "name": "stdout",
     "output_type": "stream",
     "text": [
      "[('computer', 'electronics', 50000), ('laptop', 'electronics', 100000), ('worker', 'people', 50)]\n"
     ]
    }
   ],
   "source": [
    "if \"people\" in list(b[0])[0]:\n",
    "    product_info.append((\"harry potter\", \"books\", 100))\n",
    "\n",
    "print(product_info)"
   ]
  }
 ],
 "metadata": {
  "kernelspec": {
   "display_name": "ML",
   "language": "python",
   "name": "python3"
  },
  "language_info": {
   "codemirror_mode": {
    "name": "ipython",
    "version": 3
   },
   "file_extension": ".py",
   "mimetype": "text/x-python",
   "name": "python",
   "nbconvert_exporter": "python",
   "pygments_lexer": "ipython3",
   "version": "3.10.15"
  }
 },
 "nbformat": 4,
 "nbformat_minor": 2
}
