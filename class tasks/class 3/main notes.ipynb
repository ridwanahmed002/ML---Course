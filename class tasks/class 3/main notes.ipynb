{
 "cells": [
  {
   "cell_type": "markdown",
   "metadata": {},
   "source": [
    "1. Lists\n",
    "   \n",
    "   1.1. Lists are ideal for managing collections of items where you frequently need to modify, append, or remove elements.\n",
    "\n",
    "   1.2. Lists are ordered and changeable.\n",
    "\n",
    "   1.3. Lists are indexed.\n",
    "\n",
    "2. Tuples\n",
    "\n",
    "   2.1. Tuples are immutable and cannot be sorted directly.\n",
    "\n",
    "   2.2. Tuples can be used as keys in dictionaries\n",
    "\n",
    "   2.3.  Use tuples when you have a fixed set of data that shouldn't be changed, such as coordinates or days of the week.\n",
    "\n",
    "    Storing constant data (e.g., latitude and longitude coordinates).\n",
    "    Defining function arguments that should not be modified.\n",
    "    Using as keys in dictionaries for fast lookups\n",
    "\n",
    "3. Dictionaries\n",
    "\n",
    "   3.1. Dictionaries are unordered and changeable.\n",
    "\n",
    "   3.2. Dictionaries are perfect for storing data that needs to be retrieved based on a unique key, like a phone book or product catalog.\n",
    "\n",
    "    Storing and accessing configuration settings.\n",
    "    Organizing data in JSON-like formats.\n",
    "    Quick lookups where each item has a unique identifier (e.g., mapping user IDs to user details).\n",
    "\n",
    "4. Sets\n",
    "\n",
    "   4.1. Sets are unordered and changeable.\n",
    "\n",
    "   4.2.  automatically discard duplicate values\n",
    "\n",
    "   4.2.  Sets are highly efficient for membership testing and eliminating duplicates from large datasets.\n",
    "\n",
    "    Data Deduplication: Eliminate duplicate entries from a list.\n",
    "    Set Membership: Check if an element belongs to a collection with constant time complexity.\n",
    "    Mathematical Computations: Perform set-based operations like union and intersection\n",
    "\n",
    "\n",
    "\n",
    "\n"
   ]
  },
  {
   "cell_type": "code",
   "execution_count": null,
   "metadata": {},
   "outputs": [],
   "source": [
    " my_list = [1, 2, 3, 4, 5, 6, 7, 8, 9, 10]\n",
    " my_list[2] = 100  # Replace the third element\n",
    " my_list.append(11)  # Append new element\n",
    "# Remove an element from the list\n",
    " my_list.remove(2)\n",
    " my_list.pop()  # Remove the last element\n",
    " print(my_list)"
   ]
  },
  {
   "cell_type": "code",
   "execution_count": null,
   "metadata": {},
   "outputs": [],
   "source": [
    " my_tuple = (10, 20, 30, 40)\n",
    " a, b, c, d = my_tuple  # Unpacking\n",
    " print(a, b, c, d"
   ]
  },
  {
   "cell_type": "code",
   "execution_count": null,
   "metadata": {},
   "outputs": [],
   "source": [
    "person = {\n",
    " \"name\": \"Alice\",\n",
    " \"age\": 30,\n",
    " \"city\": \"New York\",\n",
    " \"is_student\": False\n",
    " }\n",
    "\n",
    "# Accessing values\n",
    "print(person[\"name\"])\n",
    "\n",
    "# Updating a value\n",
    "person[\"age\"] = 31  # Update age\n",
    "person[\"city\"] = \"San Francisco\"  # Change city\n",
    "\n",
    "person[\"email\"] = \"alice@example.com\"\n",
    " \n",
    " # Removing a key-value pair\n",
    "del person[\"is_student\"]  # Using del\n",
    "# Using pop to remove and return the value of the key\n",
    "removed_value = person.pop(\"email\")\n",
    "\n",
    "\n"
   ]
  },
  {
   "cell_type": "code",
   "execution_count": null,
   "metadata": {},
   "outputs": [],
   "source": [
    "set1 = {1, 2, 3, 4}\n",
    " set2 = {3, 4, 5, 6}\n",
    " union_set = set1.union(set2)  # Union\n",
    " intersection_set = set1.intersection(set2)  # Intersection\n",
    " difference_set = set1.difference(set2)  # Difference\n",
    "# Add an element to the set\n",
    " my_set.add(6)\n",
    " # Remove an element\n",
    " my_set.discard(3)\n",
    " print(union_set, intersection_set, difference_set)"
   ]
  }
 ],
 "metadata": {
  "kernelspec": {
   "display_name": "ML",
   "language": "python",
   "name": "python3"
  },
  "language_info": {
   "name": "python",
   "version": "3.10.15"
  }
 },
 "nbformat": 4,
 "nbformat_minor": 2
}
