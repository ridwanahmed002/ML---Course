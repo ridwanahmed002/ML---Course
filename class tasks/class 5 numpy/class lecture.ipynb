{
 "cells": [
  {
   "cell_type": "code",
   "execution_count": 1,
   "metadata": {},
   "outputs": [],
   "source": [
    "import numpy as np"
   ]
  },
  {
   "cell_type": "code",
   "execution_count": null,
   "metadata": {},
   "outputs": [
    {
     "name": "stdout",
     "output_type": "stream",
     "text": [
      "type of initial_array:  <class 'numpy.ndarray'>\n",
      "(2, 5)\n",
      "size of second_array:  10\n"
     ]
    },
    {
     "ename": "TypeError",
     "evalue": "'int' object is not callable",
     "output_type": "error",
     "traceback": [
      "\u001b[1;31m---------------------------------------------------------------------------\u001b[0m",
      "\u001b[1;31mTypeError\u001b[0m                                 Traceback (most recent call last)",
      "Cell \u001b[1;32mIn[9], line 11\u001b[0m\n\u001b[0;32m      7\u001b[0m \u001b[38;5;66;03m#here it cant be (second_array.shape()) \u001b[39;00m\n\u001b[0;32m      8\u001b[0m \u001b[38;5;66;03m# when can call method in 2 way ; 1. using () 2. using . ; we use parenthesis when they are filterable ; for example heads(6)\u001b[39;00m\n\u001b[0;32m     10\u001b[0m \u001b[38;5;28mprint\u001b[39m(\u001b[38;5;124m\"\u001b[39m\u001b[38;5;124msize of second_array: \u001b[39m\u001b[38;5;124m\"\u001b[39m, second_array\u001b[38;5;241m.\u001b[39msize)\n\u001b[1;32m---> 11\u001b[0m \u001b[38;5;28mprint\u001b[39m(\u001b[38;5;124m\"\u001b[39m\u001b[38;5;124msize of second_array: \u001b[39m\u001b[38;5;124m\"\u001b[39m, \u001b[43msecond_array\u001b[49m\u001b[38;5;241;43m.\u001b[39;49m\u001b[43msize\u001b[49m\u001b[43m(\u001b[49m\u001b[43m)\u001b[49m)\n",
      "\u001b[1;31mTypeError\u001b[0m: 'int' object is not callable"
     ]
    }
   ],
   "source": [
    "initial_array = np.array([1,2,3,4,5,6,7,8,9,10])\n",
    "print(\"type of initial_array: \", type(initial_array)) # here nd array means n dimensional array\n",
    "\n",
    "second_array = np.array([[1,2,3,4,5], [6,7,8,9,10]])\n",
    "\n",
    "print(second_array.shape) \n",
    "#here it cant be (second_array.shape()) \n",
    "# when can call method in 2 way ; 1. using () 2. using . ; we use parenthesis when they are filterable ; for example heads(6)\n",
    "\n",
    "print(\"size of second_array: \", second_array.size)\n",
    "print(\"size of second_array: \", second_array.size()) # this will give error because we cant put integer in method"
   ]
  },
  {
   "cell_type": "code",
   "execution_count": null,
   "metadata": {},
   "outputs": [
    {
     "name": "stdout",
     "output_type": "stream",
     "text": [
      "shape of third_array:  (2, 2, 3)\n",
      "size of third_array:  12\n"
     ]
    }
   ],
   "source": [
    "third_array = np.array([[[1,2,3],\n",
    "                         [4,5,6]],\n",
    "                        [[7,8,9],\n",
    "                         [10,11,12]]])\n",
    "\n",
    "print(\"shape of third_array: \", third_array.shape) # here (2,2,3) means 2 rows, 2 columns, 3 layers ; if we imagine it as image then height, weidth and depth \n",
    "print(\"size of third_array: \", third_array.size) # we can get size by multiplying shape; here (2,2,3) = 2*2*3 = 12\n"
   ]
  },
  {
   "cell_type": "code",
   "execution_count": null,
   "metadata": {},
   "outputs": [
    {
     "name": "stdout",
     "output_type": "stream",
     "text": [
      "[[0. 0. 0. 0.]\n",
      " [0. 0. 0. 0.]\n",
      " [0. 0. 0. 0.]]\n",
      "======================================\n",
      "[[[0. 0. 0. 0.]\n",
      "  [0. 0. 0. 0.]\n",
      "  [0. 0. 0. 0.]]\n",
      "\n",
      " [[0. 0. 0. 0.]\n",
      "  [0. 0. 0. 0.]\n",
      "  [0. 0. 0. 0.]]]\n",
      "======================================\n",
      "[1. 1. 1.]\n",
      "======================================\n",
      "[[5 5 5]\n",
      " [5 5 5]]\n"
     ]
    }
   ],
   "source": [
    "# Dummy data\n",
    "\n",
    "z_data = np.zeros((3,4)) # 3 rows, 4 columns\n",
    "print(z_data)\n",
    "\n",
    "print(\"======================================\")\n",
    "\n",
    "y_data = np.zeros((2,3,4))\n",
    "print(y_data) \n",
    "\n",
    "print(\"======================================\")\n",
    "\n",
    "z_data = np.ones((3))\n",
    "print(z_data)\n",
    "\n",
    "print(\"======================================\")\n",
    "\n",
    "x_data = np.full((2,3), 5) # here it means 2 rows, 3 columns and fill with 5\n",
    "print(x_data)"
   ]
  },
  {
   "cell_type": "code",
   "execution_count": null,
   "metadata": {},
   "outputs": [
    {
     "name": "stdout",
     "output_type": "stream",
     "text": [
      "[[1. 0. 0. 0. 0.]\n",
      " [0. 1. 0. 0. 0.]\n",
      " [0. 0. 1. 0. 0.]\n",
      " [0. 0. 0. 1. 0.]\n",
      " [0. 0. 0. 0. 1.]]\n"
     ]
    }
   ],
   "source": [
    "#identity matrix\n",
    "x = np.eye(5) # here dimension does not matter; always square matrix\n",
    "print(x) #we use to solve non linear equation to linear equation using this; linear equation is y = mx + c\n"
   ]
  },
  {
   "cell_type": "code",
   "execution_count": 12,
   "metadata": {},
   "outputs": [
    {
     "name": "stdout",
     "output_type": "stream",
     "text": [
      "[0 1 2 3]\n",
      "[]\n",
      "[4.  4.2 4.4]\n"
     ]
    }
   ],
   "source": [
    "a_data = np.arange(4)\n",
    "print(a_data)\n",
    "\n",
    "b_data = np.arange(4,4)\n",
    "print(b_data)\n",
    "\n",
    "c_data = np.arange(4,4.5,0.2)\n",
    "print(c_data)"
   ]
  },
  {
   "cell_type": "code",
   "execution_count": 8,
   "metadata": {},
   "outputs": [
    {
     "name": "stdout",
     "output_type": "stream",
     "text": [
      "[1.94       1.94122449 1.94244898 1.94367347 1.94489796 1.94612245\n",
      " 1.94734694 1.94857143 1.94979592 1.95102041 1.9522449  1.95346939\n",
      " 1.95469388 1.95591837 1.95714286 1.95836735 1.95959184 1.96081633\n",
      " 1.96204082 1.96326531 1.9644898  1.96571429 1.96693878 1.96816327\n",
      " 1.96938776 1.97061224 1.97183673 1.97306122 1.97428571 1.9755102\n",
      " 1.97673469 1.97795918 1.97918367 1.98040816 1.98163265 1.98285714\n",
      " 1.98408163 1.98530612 1.98653061 1.9877551  1.98897959 1.99020408\n",
      " 1.99142857 1.99265306 1.99387755 1.99510204 1.99632653 1.99755102\n",
      " 1.99877551 2.        ]\n",
      "[1.   1.25 1.5  1.75 2.  ]\n",
      "[1.         1.66666667 2.33333333 3.        ]\n",
      "[ 2  6 10 14 18 22 26 30 34 38]\n"
     ]
    }
   ],
   "source": [
    "#linspace ; used for evenly spaced values between two values\n",
    "a = np.linspace(1.94, 2)\n",
    "print(a) #evenly spaced values between two values\n",
    "b = np.linspace(1, 2, 5)\n",
    "print(b) #5 evenly spaced values between 1 and 2\n",
    "c = np.linspace(1, 3,4)\n",
    "print(c)\n",
    "d = np.array(np.arange(2,40,4))  \n",
    "print(d)\n"
   ]
  },
  {
   "cell_type": "code",
   "execution_count": 12,
   "metadata": {},
   "outputs": [
    {
     "name": "stdout",
     "output_type": "stream",
     "text": [
      "[ 2  6 10 14 18 22 26 30 34 38]\n",
      "22\n",
      "[10 14]\n",
      "[10 14 18 22 26 30 34 38]\n",
      "[ 2  6 10 14]\n",
      "[ 6 14]\n"
     ]
    },
    {
     "ename": "IndexError",
     "evalue": "too many indices for array: array is 1-dimensional, but 2 were indexed",
     "output_type": "error",
     "traceback": [
      "\u001b[1;31m---------------------------------------------------------------------------\u001b[0m",
      "\u001b[1;31mIndexError\u001b[0m                                Traceback (most recent call last)",
      "Cell \u001b[1;32mIn[12], line 7\u001b[0m\n\u001b[0;32m      5\u001b[0m \u001b[38;5;28mprint\u001b[39m(d[:\u001b[38;5;241m4\u001b[39m])\n\u001b[0;32m      6\u001b[0m \u001b[38;5;28mprint\u001b[39m(d[\u001b[38;5;241m1\u001b[39m:\u001b[38;5;241m5\u001b[39m:\u001b[38;5;241m2\u001b[39m]) \u001b[38;5;66;03m# here 1:5:2 means 1,3\u001b[39;00m\n\u001b[1;32m----> 7\u001b[0m \u001b[38;5;28mprint\u001b[39m(\u001b[43md\u001b[49m\u001b[43m[\u001b[49m\u001b[38;5;241;43m5\u001b[39;49m\u001b[43m,\u001b[49m\u001b[43m \u001b[49m\u001b[43m:\u001b[49m\u001b[43m \u001b[49m\u001b[43m]\u001b[49m)\n",
      "\u001b[1;31mIndexError\u001b[0m: too many indices for array: array is 1-dimensional, but 2 were indexed"
     ]
    }
   ],
   "source": [
    "print(d)\n",
    "print(d[5])\n",
    "print(d[2:4])\n",
    "print(d[2:])\n",
    "print(d[:4])\n",
    "print(d[1:5:2]) # here 1:5:2 means 1,3\n",
    "print(d[5, : ]) # cant happen because 1 dimensional array"
   ]
  },
  {
   "cell_type": "code",
   "execution_count": 18,
   "metadata": {},
   "outputs": [
    {
     "name": "stdout",
     "output_type": "stream",
     "text": [
      "[[ 2  6 10 14 18 22 26 30 34 38]\n",
      " [ 3  7 11 15 19 23 27 31 35 39]]\n",
      "[ 3  7 11 15 19 23 27 31 35 39]\n",
      "[6 7]\n"
     ]
    }
   ],
   "source": [
    "e = np.array([np.arange(2,40,4), np.arange(3,41,4)])\n",
    "print(e)\n",
    "print(e[1, : ]) #here it means 2nd row\n",
    "print(e[:, 1]) #here it means 2nd column"
   ]
  },
  {
   "cell_type": "code",
   "execution_count": 29,
   "metadata": {},
   "outputs": [
    {
     "name": "stdout",
     "output_type": "stream",
     "text": [
      "[12 14 16 18 20 22 24 26 28 30]\n",
      "[          1        4096     1594323   268435456   452807053  -683606016\n",
      " -2094633337           0  -400556711  1661992960]\n",
      "935\n",
      "5.5\n",
      "55\n",
      "1\n",
      "[False False False False False False False False  True  True]\n",
      "[12 16 20]\n"
     ]
    }
   ],
   "source": [
    "a1 = np.array([1,2,3,4,5,6,7,8,9,10])\n",
    "a2 = np.array([11,12,13,14,15,16,17,18,19,20])\n",
    "a3 = [1,5,9]\n",
    "\n",
    "print(a1 + a2)\n",
    "print(a1**a2)\n",
    "print(np.dot(a1,a2))\n",
    "print(np.mean(a1))\n",
    "print(np.sum(a1))\n",
    "print(np.min(a1))\n",
    "\n",
    "print(a2>18)\n",
    "\n",
    "print(a2[a3])"
   ]
  },
  {
   "cell_type": "code",
   "execution_count": 44,
   "metadata": {},
   "outputs": [
    {
     "name": "stdout",
     "output_type": "stream",
     "text": [
      "[1 4]\n",
      "3\n",
      "[[7 2 4]\n",
      " [3 8 7]\n",
      " [7 2 7]]\n",
      "======================================\n",
      "[[[3 8 4 5]\n",
      "  [3 7 3 4]]\n",
      "\n",
      " [[4 5 2 6]\n",
      "  [8 6 4 3]]]\n",
      "======================================\n",
      "[[[0.4849916  0.1547461  0.13346027 0.98840856]\n",
      "  [0.72865133 0.16456441 0.19483688 0.49221457]]\n",
      "\n",
      " [[0.65070462 0.33809396 0.92783206 0.50990204]\n",
      "  [0.43374715 0.31031906 0.87086528 0.75261602]]]\n",
      "======================================\n",
      "[[[0.13346027 0.1547461  0.4849916  0.98840856]\n",
      "  [0.16456441 0.19483688 0.49221457 0.72865133]]\n",
      "\n",
      " [[0.33809396 0.50990204 0.65070462 0.92783206]\n",
      "  [0.31031906 0.43374715 0.75261602 0.87086528]]]\n",
      "======================================\n",
      "[[ 1.33311772 -0.92277142 -0.49385327  0.62068472]]\n",
      "======================================\n"
     ]
    }
   ],
   "source": [
    "random_data = np.random.randint((2,9))\n",
    "print(random_data)\n",
    "\n",
    "random_data2 = np.random.randint(2,9)\n",
    "print(random_data2)\n",
    "\n",
    "random_data3 = np.random.randint(2,9, size=(3,3))\n",
    "print(random_data3)\n",
    "\n",
    "print(\"======================================\")\n",
    "\n",
    "random_data4 = np.random.randint(2,9, size=(2,2,4))\n",
    "print(random_data4)\n",
    "\n",
    "print(\"======================================\")\n",
    "\n",
    "\n",
    "random_data5 = np.random.rand(2,2,4)\n",
    "print(random_data5)\n",
    "\n",
    "print(\"======================================\")\n",
    "\n",
    "print(np.sort(random_data5))\n",
    "\n",
    "print(\"======================================\")\n",
    "\n",
    "random_data6 = np.random.randn(1, 4) #normal or gaussian distribution\n",
    "print(random_data6)\n",
    "\n",
    "print(\"======================================\")\n"
   ]
  }
 ],
 "metadata": {
  "kernelspec": {
   "display_name": "ML",
   "language": "python",
   "name": "python3"
  },
  "language_info": {
   "codemirror_mode": {
    "name": "ipython",
    "version": 3
   },
   "file_extension": ".py",
   "mimetype": "text/x-python",
   "name": "python",
   "nbconvert_exporter": "python",
   "pygments_lexer": "ipython3",
   "version": "3.10.15"
  }
 },
 "nbformat": 4,
 "nbformat_minor": 2
}
