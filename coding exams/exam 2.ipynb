{
 "cells": [
  {
   "cell_type": "markdown",
   "metadata": {},
   "source": [
    "# Set 5"
   ]
  },
  {
   "cell_type": "markdown",
   "metadata": {},
   "source": [
    "## Question 1: Python Fundamentals and Control Structures (15 Marks)"
   ]
  },
  {
   "cell_type": "markdown",
   "metadata": {},
   "source": [
    "### (a) Basic Input/Output and Data Types (5 Marks)\n",
    "\n",
    "Write a Python program that:\n",
    "\n",
    "Prompts the user to input a sentence.\n",
    "Counts the number of words, characters (excluding spaces), and vowels in the sentence.\n",
    "Prints the results in a formatted manner."
   ]
  },
  {
   "cell_type": "code",
   "execution_count": 1,
   "metadata": {},
   "outputs": [],
   "source": [
    "import numpy as np\n",
    "import pandas as pd\n",
    "import matplotlib.pyplot as plt"
   ]
  },
  {
   "cell_type": "code",
   "execution_count": 4,
   "metadata": {},
   "outputs": [
    {
     "name": "stdout",
     "output_type": "stream",
     "text": [
      "Sentence: I am Ridwan\n",
      "Number of words: 3\n",
      "Number of characters: 9\n",
      "Number of vowels: 4\n"
     ]
    }
   ],
   "source": [
    "sentence = input(\"Enter a sentence: \")\n",
    "words = sentence.split()\n",
    "characters = len([char for char in sentence if char != \" \"])\n",
    "\n",
    "vowels = 0\n",
    "for char in sentence:\n",
    "    if char.lower() in \"aeiou\":\n",
    "        vowels += 1\n",
    "\n",
    "print(f\"Sentence: {sentence}\")\n",
    "print(f\"Number of words: {len(words)}\")\n",
    "print(f\"Number of characters: {characters}\")\n",
    "print(f\"Number of vowels: {vowels}\")\n"
   ]
  },
  {
   "cell_type": "markdown",
   "metadata": {},
   "source": [
    "### (b) Functions and Error Handling (10 Marks)\n",
    "\n",
    "Define a function factorial(n) that:\n",
    "\n",
    "Calculates the factorial of a positive integer n .\n",
    "Raises a ValueError if n is negative or not an integer.\n",
    "Includes a docstring explaining the function's purpose.\n",
    "\n",
    "Demonstrate the use of this function with at least two examples, one of which should trigger the\n",
    "ValueError ."
   ]
  },
  {
   "cell_type": "code",
   "execution_count": 9,
   "metadata": {},
   "outputs": [
    {
     "name": "stdout",
     "output_type": "stream",
     "text": [
      "6\n",
      "n must be a positive integer.\n"
     ]
    }
   ],
   "source": [
    "def factorial(n):\n",
    "\n",
    "    #docstring explaining the function's purpose\n",
    "\n",
    "    \"\"\"\n",
    "    Calculate the factorial of a positive integer n.\n",
    "\n",
    "    Args:\n",
    "        n (int): A positive integer.\n",
    "\n",
    "    Returns:\n",
    "        int: The factorial of n.\n",
    "\n",
    "    Raises:\n",
    "        ValueError: If n is negative or not an integer.\n",
    "    \"\"\"\n",
    "\n",
    "    if not isinstance(n, int) or n < 0:\n",
    "        raise ValueError(\"n must be a positive integer.\")\n",
    "    if n == 0:\n",
    "        return 1\n",
    "    return n * factorial(n - 1)\n",
    "\n",
    "try:\n",
    "    n = int(input(\"Enter first integer: \"))\n",
    "    print(factorial(n))\n",
    "except ValueError as e:\n",
    "    print(e)\n",
    "\n",
    "try:\n",
    "    n = int(input(\"Enter a second integer: \"))\n",
    "    print(factorial(n))\n",
    "except ValueError as e:\n",
    "    print(e)"
   ]
  },
  {
   "cell_type": "markdown",
   "metadata": {},
   "source": [
    "## Question 2: Data Structures in Python (20 Marks)"
   ]
  },
  {
   "cell_type": "markdown",
   "metadata": {},
   "source": [
    "### (a) List Manipulation and Comprehensions (10 Marks)\n",
    "\n",
    "Given a list of integers:\n",
    "\n",
    "numbers = [3, 7, 2, 9, 12, 15, 8, 6]\n",
    "\n",
    "Perform the following tasks:\n",
    "\n",
    "Create a new list containing the squares of all even numbers from the original list using a list\n",
    "comprehension. (5 Marks)\n",
    "\n",
    "Sort the original list in descending order without using the built-in sort() method. (5 Marks)"
   ]
  },
  {
   "cell_type": "code",
   "execution_count": null,
   "metadata": {},
   "outputs": [
    {
     "name": "stdout",
     "output_type": "stream",
     "text": [
      "Squares of Even Numbers: [4, 144, 64, 36]\n",
      "Sorted List in Descending Order: [15, 12, 9, 8, 7, 6, 3, 2]\n"
     ]
    }
   ],
   "source": [
    "numbers = [3, 7, 2, 9, 12, 15, 8, 6]\n",
    "\n",
    "squares = [num**2 for num in numbers if num % 2 == 0]\n",
    "\n",
    "descending_numbers = []\n",
    "while numbers:\n",
    "    largest = max(numbers)   \n",
    "    descending_numbers.append(largest)  \n",
    "    numbers.remove(largest)\n",
    "\n",
    "print(\"Squares of Even Numbers:\", squares)\n",
    "print(\"Sorted List in Descending Order:\", descending_numbers)"
   ]
  },
  {
   "cell_type": "markdown",
   "metadata": {},
   "source": [
    "### (b) Dictionary Operations (10 Marks)\n",
    "\n",
    "You have a dictionary representing employees and their departments:\n",
    "\n",
    "employees = {\n",
    "\"E001\": \"HR\",\n",
    "\"E002\": \"IT\",\n",
    "\"E003\": \"Finance\",\n",
    "\"E004\": \"IT\",\n",
    "\"E005\": \"HR\",\n",
    "\"E006\": \"Marketing\",\n",
    "\"E007\": \"Finance\",\n",
    "\n",
    "\"E008\": \"IT\"\n",
    "}\n",
    "\n",
    "Perform the following tasks:\n",
    "\n",
    "Create a new dictionary that maps each department to a list of employee IDs in that department.\n",
    "(6 Marks)\n",
    "\n",
    "Find the department with the highest number of employees. (4 Marks)"
   ]
  },
  {
   "cell_type": "code",
   "execution_count": 15,
   "metadata": {},
   "outputs": [
    {
     "name": "stdout",
     "output_type": "stream",
     "text": [
      "Department to Employees ID: {'HR': ['E001', 'E005'], 'IT': ['E002', 'E004', 'E008'], 'Finance': ['E003', 'E007'], 'Marketing': ['E006']}\n",
      "Department with the highest number of employees: IT\n"
     ]
    }
   ],
   "source": [
    "# ### (b) Dictionary Operations (10 Marks)\n",
    "\n",
    "# You have a dictionary representing employees and their departments:\n",
    "\n",
    "# employees = {\n",
    "# \"E001\": \"HR\",\n",
    "# \"E002\": \"IT\",\n",
    "# \"E003\": \"Finance\",\n",
    "# \"E004\": \"IT\",\n",
    "# \"E005\": \"HR\",\n",
    "# \"E006\": \"Marketing\",\n",
    "# \"E007\": \"Finance\",\n",
    "\n",
    "# \"E008\": \"IT\"\n",
    "# }\n",
    "\n",
    "# Perform the following tasks:\n",
    "\n",
    "# Create a new dictionary that maps each department to a list of employee IDs in that department.\n",
    "# (6 Marks)\n",
    "\n",
    "# Find the department with the highest number of employees. (4 Marks)\n",
    "\n",
    "employees = {\n",
    "\"E001\": \"HR\",\n",
    "\"E002\": \"IT\",\n",
    "\"E003\": \"Finance\",\n",
    "\"E004\": \"IT\",\n",
    "\"E005\": \"HR\",\n",
    "\"E006\": \"Marketing\",\n",
    "\"E007\": \"Finance\",\n",
    "\"E008\": \"IT\"\n",
    "}\n",
    "\n",
    "mapping = {}\n",
    "for emp_id, dept in employees.items():\n",
    "    mapping.setdefault(dept, []).append(emp_id)\n",
    "\n",
    "print(\"Department to Employees ID:\", mapping)\n",
    "\n",
    "max_dept = max(mapping, key=lambda dept: len(mapping[dept]))\n",
    "\n",
    "print(\"Department with the highest number of employees:\", max_dept)\n"
   ]
  },
  {
   "cell_type": "markdown",
   "metadata": {},
   "source": []
  }
 ],
 "metadata": {
  "kernelspec": {
   "display_name": "tf",
   "language": "python",
   "name": "python3"
  },
  "language_info": {
   "codemirror_mode": {
    "name": "ipython",
    "version": 3
   },
   "file_extension": ".py",
   "mimetype": "text/x-python",
   "name": "python",
   "nbconvert_exporter": "python",
   "pygments_lexer": "ipython3",
   "version": "3.9.20"
  }
 },
 "nbformat": 4,
 "nbformat_minor": 2
}
