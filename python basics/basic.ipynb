{
 "cells": [
  {
   "cell_type": "code",
   "execution_count": 6,
   "metadata": {},
   "outputs": [
    {
     "name": "stdout",
     "output_type": "stream",
     "text": [
      "<class 'int'>\n",
      "<class 'str'>\n",
      "sum  15\n"
     ]
    }
   ],
   "source": [
    "#type casting\n",
    "\n",
    "a = 10\n",
    "print(type(a))\n",
    "\n",
    "first_number = 10\n",
    "second_number = input(\"Enter a number: \")\n",
    "print(type(second_number))\n",
    "\n",
    "print(\"sum \", first_number + int(second_number))"
   ]
  },
  {
   "cell_type": "code",
   "execution_count": null,
   "metadata": {},
   "outputs": [],
   "source": [
    "#for loops\n",
    "\n",
    "for i in range(10): #range(10) = [0,1,2,3,4,5,6,7,8,9]\n",
    "    print(i)\n",
    "\n",
    "for b in range(1,10): #range(1,10) = [1,2,3,4,5,6,7,8,9]\n",
    "    print(b)\n",
    "\n",
    "for c in range(1,10,2): #range(1,10,2) = [1,3,5,7,9]\n",
    "    print(c)\n",
    "\n",
    "for d in range(10,0,-1): #range(10,0,-1) = [10,9,8,7,6,5,4,3,2,1]\n",
    "    print(d)"
   ]
  },
  {
   "cell_type": "code",
   "execution_count": 11,
   "metadata": {},
   "outputs": [
    {
     "name": "stdout",
     "output_type": "stream",
     "text": [
      "45\n",
      "25\n",
      "2500\n",
      "2500\n"
     ]
    }
   ],
   "source": [
    "# 1+2+3+4+5+6+7+8+9\n",
    "sum = 0\n",
    "for i in range(1,10):\n",
    "    sum = sum + i\n",
    "print(sum)\n",
    "\n",
    "#1+3+5+7+9\n",
    "sum = 0\n",
    "for i in range(1,10,2):\n",
    "    sum = sum + i\n",
    "print(sum)\n",
    "\n",
    "#1+3+5+7+9+...+100\n",
    "sum = 0\n",
    "for i in range(1, 101):\n",
    "    if i % 2 == 0:\n",
    "        continue\n",
    "    sum = sum + i\n",
    "print(sum)\n",
    "\n",
    "sum = 0\n",
    "for i in range(1, 101):\n",
    "    if i % 2 != 0:\n",
    "        sum = sum + i\n",
    "print(sum)\n",
    "   "
   ]
  },
  {
   "cell_type": "code",
   "execution_count": 13,
   "metadata": {},
   "outputs": [
    {
     "name": "stdout",
     "output_type": "stream",
     "text": [
      "2500\n"
     ]
    }
   ],
   "source": [
    "#while loops\n",
    "\n",
    "i = 1\n",
    "sum = 0\n",
    "\n",
    "while i < 101:\n",
    "    sum = sum + i #sum += i\n",
    "    i = i + 2\n",
    "print(sum)\n"
   ]
  },
  {
   "cell_type": "code",
   "execution_count": 14,
   "metadata": {},
   "outputs": [
    {
     "name": "stdout",
     "output_type": "stream",
     "text": [
      "30\n"
     ]
    }
   ],
   "source": [
    "#functions or methods\n",
    "\n",
    "def sum(a, b): #a and b are parameters\n",
    "    return a + b\n",
    "\n",
    "print(sum(10, 20))\n"
   ]
  }
 ],
 "metadata": {
  "kernelspec": {
   "display_name": "ML",
   "language": "python",
   "name": "python3"
  },
  "language_info": {
   "codemirror_mode": {
    "name": "ipython",
    "version": 3
   },
   "file_extension": ".py",
   "mimetype": "text/x-python",
   "name": "python",
   "nbconvert_exporter": "python",
   "pygments_lexer": "ipython3",
   "version": "3.10.15"
  }
 },
 "nbformat": 4,
 "nbformat_minor": 2
}
