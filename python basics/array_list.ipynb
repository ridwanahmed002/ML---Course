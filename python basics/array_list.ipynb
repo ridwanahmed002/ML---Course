{
 "cells": [
  {
   "cell_type": "code",
   "execution_count": 3,
   "metadata": {},
   "outputs": [
    {
     "name": "stdout",
     "output_type": "stream",
     "text": [
      "2\n",
      "5\n",
      "[2, 3, 4]\n",
      "[2, 3, 4, 5]\n",
      "[1, 2, 3]\n"
     ]
    }
   ],
   "source": [
    "#list basics\n",
    "\n",
    "int_list = [1, 2, 3, 4, 5]\n",
    "float_list = [1.1, 2.2, 3.3, 4.4, 5.5]\n",
    "str_list = [\"Arman\", \"Khan\", \"Vai\", \"Python\"]\n",
    "\n",
    "print(int_list[1])\n",
    "print(int_list[-1])\n",
    "print(int_list[1:4])\n",
    "print(int_list[1:])\n",
    "print(int_list[:3])"
   ]
  },
  {
   "cell_type": "code",
   "execution_count": 4,
   "metadata": {},
   "outputs": [
    {
     "name": "stdout",
     "output_type": "stream",
     "text": [
      "max value in [1, 2, 3, 4, 5] is 5\n",
      "min value in [1, 2, 3, 4, 5] is 1\n",
      "sum of [1, 2, 3, 4, 5] is 15\n"
     ]
    }
   ],
   "source": [
    "print(f\"max value in {int_list} is {max(int_list)}\")\n",
    "print(f\"min value in {int_list} is {min(int_list)}\")\n",
    "print(f\"sum of {int_list} is {sum(int_list)}\")"
   ]
  },
  {
   "cell_type": "code",
   "execution_count": 5,
   "metadata": {},
   "outputs": [
    {
     "name": "stdout",
     "output_type": "stream",
     "text": [
      "5\n",
      "1\n"
     ]
    }
   ],
   "source": [
    "#max with loop\n",
    "\n",
    "int_list = [1, 2, 3, 4, 5]\n",
    "\n",
    "max = int_list[0]\n",
    "for i in int_list:\n",
    "    if i > max:\n",
    "        max = i\n",
    "print(max)\n",
    "\n",
    "#min with loop\n",
    "\n",
    "min = int_list[0]\n",
    "for i in int_list:\n",
    "    if i < min:\n",
    "        min = i\n",
    "print(min)"
   ]
  }
 ],
 "metadata": {
  "kernelspec": {
   "display_name": "ML",
   "language": "python",
   "name": "python3"
  },
  "language_info": {
   "codemirror_mode": {
    "name": "ipython",
    "version": 3
   },
   "file_extension": ".py",
   "mimetype": "text/x-python",
   "name": "python",
   "nbconvert_exporter": "python",
   "pygments_lexer": "ipython3",
   "version": "3.10.15"
  }
 },
 "nbformat": 4,
 "nbformat_minor": 2
}
